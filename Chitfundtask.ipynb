{
  "nbformat": 4,
  "nbformat_minor": 0,
  "metadata": {
    "colab": {
      "name": "Chitfundtask.ipynb",
      "provenance": [],
      "collapsed_sections": [],
      "toc_visible": true,
      "authorship_tag": "ABX9TyNxEEXBJjd+dBLcrPjbPCI5",
      "include_colab_link": true
    },
    "kernelspec": {
      "name": "python3",
      "display_name": "Python 3"
    }
  },
  "cells": [
    {
      "cell_type": "markdown",
      "metadata": {
        "id": "view-in-github",
        "colab_type": "text"
      },
      "source": [
        "<a href=\"https://colab.research.google.com/github/kaviyakrishnamoorthy/task1/blob/main/Chitfundtask.ipynb\" target=\"_parent\"><img src=\"https://colab.research.google.com/assets/colab-badge.svg\" alt=\"Open In Colab\"/></a>"
      ]
    },
    {
      "cell_type": "markdown",
      "metadata": {
        "id": "mUbyHdX5vRP-"
      },
      "source": [
        "A chit fund has 25 members. Each month they contribute Rs 2000 each. End of the month, the\r\n",
        "person who bids the lowest for the corpus, gets his bid. The group organizer gets paid a fixed\r\n",
        "commission of Rs 2500 each month (5% of 25*2000).It is deducted from the bid winner's\r\n",
        "corpus. The remaining amount is distributed among all the 25 customers equally.Enclosed\r\n",
        "excel has the table with cashflows for each month.\r\n",
        "\r\n",
        "\r\n",
        "Task :\r\n",
        "• What is the Annualized Return of the person who bids in the last month ?\r\n",
        "• What is the Annualized Return of the person who bids in the first month ?\r\n",
        "• Write an R/Python script which calculates the annualized return of chit fund participant ?-\r\n",
        "Show the Return % for each month's bid winner."
      ]
    },
    {
      "cell_type": "code",
      "metadata": {
        "id": "uCXu8yHDcZZc"
      },
      "source": [
        "#import the required libraries\r\n",
        "import numpy as np\r\n",
        "import pandas as pd\r\n"
      ],
      "execution_count": 88,
      "outputs": []
    },
    {
      "cell_type": "code",
      "metadata": {
        "colab": {
          "base_uri": "https://localhost:8080/"
        },
        "id": "YEIOy5eudPqv",
        "outputId": "25c4179b-111c-461b-9e27-060d3c82c61d"
      },
      "source": [
        "cd sample_data"
      ],
      "execution_count": 5,
      "outputs": [
        {
          "output_type": "stream",
          "text": [
            "/content/sample_data\n"
          ],
          "name": "stdout"
        }
      ]
    },
    {
      "cell_type": "code",
      "metadata": {
        "id": "N_0RhN9KvfsQ"
      },
      "source": [
        "#read .xlsx file and conevrt it into .cv format"
      ],
      "execution_count": null,
      "outputs": []
    },
    {
      "cell_type": "code",
      "metadata": {
        "id": "j8H61twvcs63"
      },
      "source": [
        "read_file = pd.read_excel(\"Exercise Data.xlsx\")"
      ],
      "execution_count": 8,
      "outputs": []
    },
    {
      "cell_type": "code",
      "metadata": {
        "id": "DrtrweqNdVUc"
      },
      "source": [
        "read_file.to_csv (\"input.csv\") "
      ],
      "execution_count": 89,
      "outputs": []
    },
    {
      "cell_type": "code",
      "metadata": {
        "id": "w7CO2et8dVXb"
      },
      "source": [
        "#craete a dataframe and read the data\r\n",
        "df = pd.DataFrame(pd.read_csv(\"input.csv\")) "
      ],
      "execution_count": 71,
      "outputs": []
    },
    {
      "cell_type": "code",
      "metadata": {
        "colab": {
          "base_uri": "https://localhost:8080/",
          "height": 821
        },
        "id": "xd17lwZdcs9j",
        "outputId": "725396a7-26e2-4d6f-ff19-1b41baf1e388"
      },
      "source": [
        "df"
      ],
      "execution_count": 72,
      "outputs": [
        {
          "output_type": "execute_result",
          "data": {
            "text/html": [
              "<div>\n",
              "<style scoped>\n",
              "    .dataframe tbody tr th:only-of-type {\n",
              "        vertical-align: middle;\n",
              "    }\n",
              "\n",
              "    .dataframe tbody tr th {\n",
              "        vertical-align: top;\n",
              "    }\n",
              "\n",
              "    .dataframe thead th {\n",
              "        text-align: right;\n",
              "    }\n",
              "</style>\n",
              "<table border=\"1\" class=\"dataframe\">\n",
              "  <thead>\n",
              "    <tr style=\"text-align: right;\">\n",
              "      <th></th>\n",
              "      <th>Month</th>\n",
              "      <th>Contribution</th>\n",
              "      <th>Amount won by the bidder</th>\n",
              "      <th>Chit fund organizer commission</th>\n",
              "      <th>Net amount recd by Bid winner</th>\n",
              "      <th>Amount returned to everyone in the group</th>\n",
              "    </tr>\n",
              "  </thead>\n",
              "  <tbody>\n",
              "    <tr>\n",
              "      <th>0</th>\n",
              "      <td>1</td>\n",
              "      <td>2000</td>\n",
              "      <td>40000</td>\n",
              "      <td>2500</td>\n",
              "      <td>37500</td>\n",
              "      <td>400</td>\n",
              "    </tr>\n",
              "    <tr>\n",
              "      <th>1</th>\n",
              "      <td>2</td>\n",
              "      <td>2000</td>\n",
              "      <td>42000</td>\n",
              "      <td>2500</td>\n",
              "      <td>39500</td>\n",
              "      <td>320</td>\n",
              "    </tr>\n",
              "    <tr>\n",
              "      <th>2</th>\n",
              "      <td>3</td>\n",
              "      <td>2000</td>\n",
              "      <td>45000</td>\n",
              "      <td>2500</td>\n",
              "      <td>42500</td>\n",
              "      <td>200</td>\n",
              "    </tr>\n",
              "    <tr>\n",
              "      <th>3</th>\n",
              "      <td>4</td>\n",
              "      <td>2000</td>\n",
              "      <td>48000</td>\n",
              "      <td>2500</td>\n",
              "      <td>45500</td>\n",
              "      <td>80</td>\n",
              "    </tr>\n",
              "    <tr>\n",
              "      <th>4</th>\n",
              "      <td>5</td>\n",
              "      <td>2000</td>\n",
              "      <td>40000</td>\n",
              "      <td>2500</td>\n",
              "      <td>37500</td>\n",
              "      <td>400</td>\n",
              "    </tr>\n",
              "    <tr>\n",
              "      <th>5</th>\n",
              "      <td>6</td>\n",
              "      <td>2000</td>\n",
              "      <td>42000</td>\n",
              "      <td>2500</td>\n",
              "      <td>39500</td>\n",
              "      <td>320</td>\n",
              "    </tr>\n",
              "    <tr>\n",
              "      <th>6</th>\n",
              "      <td>7</td>\n",
              "      <td>2000</td>\n",
              "      <td>43000</td>\n",
              "      <td>2500</td>\n",
              "      <td>40500</td>\n",
              "      <td>280</td>\n",
              "    </tr>\n",
              "    <tr>\n",
              "      <th>7</th>\n",
              "      <td>8</td>\n",
              "      <td>2000</td>\n",
              "      <td>44000</td>\n",
              "      <td>2500</td>\n",
              "      <td>41500</td>\n",
              "      <td>240</td>\n",
              "    </tr>\n",
              "    <tr>\n",
              "      <th>8</th>\n",
              "      <td>9</td>\n",
              "      <td>2000</td>\n",
              "      <td>40000</td>\n",
              "      <td>2500</td>\n",
              "      <td>37500</td>\n",
              "      <td>400</td>\n",
              "    </tr>\n",
              "    <tr>\n",
              "      <th>9</th>\n",
              "      <td>10</td>\n",
              "      <td>2000</td>\n",
              "      <td>42000</td>\n",
              "      <td>2500</td>\n",
              "      <td>39500</td>\n",
              "      <td>320</td>\n",
              "    </tr>\n",
              "    <tr>\n",
              "      <th>10</th>\n",
              "      <td>11</td>\n",
              "      <td>2000</td>\n",
              "      <td>45000</td>\n",
              "      <td>2500</td>\n",
              "      <td>42500</td>\n",
              "      <td>200</td>\n",
              "    </tr>\n",
              "    <tr>\n",
              "      <th>11</th>\n",
              "      <td>12</td>\n",
              "      <td>2000</td>\n",
              "      <td>48000</td>\n",
              "      <td>2500</td>\n",
              "      <td>45500</td>\n",
              "      <td>80</td>\n",
              "    </tr>\n",
              "    <tr>\n",
              "      <th>12</th>\n",
              "      <td>13</td>\n",
              "      <td>2000</td>\n",
              "      <td>40000</td>\n",
              "      <td>2500</td>\n",
              "      <td>37500</td>\n",
              "      <td>400</td>\n",
              "    </tr>\n",
              "    <tr>\n",
              "      <th>13</th>\n",
              "      <td>14</td>\n",
              "      <td>2000</td>\n",
              "      <td>42000</td>\n",
              "      <td>2500</td>\n",
              "      <td>39500</td>\n",
              "      <td>320</td>\n",
              "    </tr>\n",
              "    <tr>\n",
              "      <th>14</th>\n",
              "      <td>15</td>\n",
              "      <td>2000</td>\n",
              "      <td>43000</td>\n",
              "      <td>2500</td>\n",
              "      <td>40500</td>\n",
              "      <td>280</td>\n",
              "    </tr>\n",
              "    <tr>\n",
              "      <th>15</th>\n",
              "      <td>16</td>\n",
              "      <td>2000</td>\n",
              "      <td>43000</td>\n",
              "      <td>2500</td>\n",
              "      <td>40500</td>\n",
              "      <td>280</td>\n",
              "    </tr>\n",
              "    <tr>\n",
              "      <th>16</th>\n",
              "      <td>17</td>\n",
              "      <td>2000</td>\n",
              "      <td>41000</td>\n",
              "      <td>2500</td>\n",
              "      <td>38500</td>\n",
              "      <td>360</td>\n",
              "    </tr>\n",
              "    <tr>\n",
              "      <th>17</th>\n",
              "      <td>18</td>\n",
              "      <td>2000</td>\n",
              "      <td>42000</td>\n",
              "      <td>2500</td>\n",
              "      <td>39500</td>\n",
              "      <td>320</td>\n",
              "    </tr>\n",
              "    <tr>\n",
              "      <th>18</th>\n",
              "      <td>19</td>\n",
              "      <td>2000</td>\n",
              "      <td>45000</td>\n",
              "      <td>2500</td>\n",
              "      <td>42500</td>\n",
              "      <td>200</td>\n",
              "    </tr>\n",
              "    <tr>\n",
              "      <th>19</th>\n",
              "      <td>20</td>\n",
              "      <td>2000</td>\n",
              "      <td>45000</td>\n",
              "      <td>2500</td>\n",
              "      <td>42500</td>\n",
              "      <td>200</td>\n",
              "    </tr>\n",
              "    <tr>\n",
              "      <th>20</th>\n",
              "      <td>21</td>\n",
              "      <td>2000</td>\n",
              "      <td>44000</td>\n",
              "      <td>2500</td>\n",
              "      <td>41500</td>\n",
              "      <td>240</td>\n",
              "    </tr>\n",
              "    <tr>\n",
              "      <th>21</th>\n",
              "      <td>22</td>\n",
              "      <td>2000</td>\n",
              "      <td>46000</td>\n",
              "      <td>2500</td>\n",
              "      <td>43500</td>\n",
              "      <td>160</td>\n",
              "    </tr>\n",
              "    <tr>\n",
              "      <th>22</th>\n",
              "      <td>23</td>\n",
              "      <td>2000</td>\n",
              "      <td>47000</td>\n",
              "      <td>2500</td>\n",
              "      <td>44500</td>\n",
              "      <td>120</td>\n",
              "    </tr>\n",
              "    <tr>\n",
              "      <th>23</th>\n",
              "      <td>24</td>\n",
              "      <td>2000</td>\n",
              "      <td>48000</td>\n",
              "      <td>2500</td>\n",
              "      <td>45500</td>\n",
              "      <td>80</td>\n",
              "    </tr>\n",
              "    <tr>\n",
              "      <th>24</th>\n",
              "      <td>25</td>\n",
              "      <td>2000</td>\n",
              "      <td>50000</td>\n",
              "      <td>2500</td>\n",
              "      <td>47500</td>\n",
              "      <td>0</td>\n",
              "    </tr>\n",
              "  </tbody>\n",
              "</table>\n",
              "</div>"
            ],
            "text/plain": [
              "    Month  ...  Amount returned to everyone in the group\n",
              "0       1  ...                                       400\n",
              "1       2  ...                                       320\n",
              "2       3  ...                                       200\n",
              "3       4  ...                                        80\n",
              "4       5  ...                                       400\n",
              "5       6  ...                                       320\n",
              "6       7  ...                                       280\n",
              "7       8  ...                                       240\n",
              "8       9  ...                                       400\n",
              "9      10  ...                                       320\n",
              "10     11  ...                                       200\n",
              "11     12  ...                                        80\n",
              "12     13  ...                                       400\n",
              "13     14  ...                                       320\n",
              "14     15  ...                                       280\n",
              "15     16  ...                                       280\n",
              "16     17  ...                                       360\n",
              "17     18  ...                                       320\n",
              "18     19  ...                                       200\n",
              "19     20  ...                                       200\n",
              "20     21  ...                                       240\n",
              "21     22  ...                                       160\n",
              "22     23  ...                                       120\n",
              "23     24  ...                                        80\n",
              "24     25  ...                                         0\n",
              "\n",
              "[25 rows x 6 columns]"
            ]
          },
          "metadata": {
            "tags": []
          },
          "execution_count": 72
        }
      ]
    },
    {
      "cell_type": "code",
      "metadata": {
        "colab": {
          "base_uri": "https://localhost:8080/"
        },
        "id": "mjwz-48Metfp",
        "outputId": "11f87c48-16d2-4142-cf49-e8c1ce210bff"
      },
      "source": [
        "#calculate total return\r\n",
        "bid_return = np.array(df['Net amount recd by Bid winner'])\r\n",
        "each_month_return = np.array(df['Amount returned to everyone in the group'])\r\n",
        "for i in each_month_return:\r\n",
        "  bid_return += i\r\n",
        "print(\"total return\",bid_return)\r\n",
        "            "
      ],
      "execution_count": 73,
      "outputs": [
        {
          "output_type": "stream",
          "text": [
            "total return [43700 45700 48700 51700 43700 45700 46700 47700 43700 45700 48700 51700\n",
            " 43700 45700 46700 46700 44700 45700 48700 48700 47700 49700 50700 51700\n",
            " 53700]\n"
          ],
          "name": "stdout"
        }
      ]
    },
    {
      "cell_type": "code",
      "metadata": {
        "id": "4ffAdqk2t_fr"
      },
      "source": [
        "#add the final result to the dataframe\r\n",
        "df[\"total return\"]=bid_return\r\n"
      ],
      "execution_count": 74,
      "outputs": []
    },
    {
      "cell_type": "code",
      "metadata": {
        "colab": {
          "base_uri": "https://localhost:8080/"
        },
        "id": "TK3xDdRLnYgF",
        "outputId": "c1cfee22-a271-4cff-a0a0-b7bb2d747fb5"
      },
      "source": [
        "#Annual Return\r\n",
        "temp = bid_return * (12/25)\r\n",
        "print(\"annaulized return\",temp)"
      ],
      "execution_count": 76,
      "outputs": [
        {
          "output_type": "stream",
          "text": [
            "annaulized return [20976. 21936. 23376. 24816. 20976. 21936. 22416. 22896. 20976. 21936.\n",
            " 23376. 24816. 20976. 21936. 22416. 22416. 21456. 21936. 23376. 23376.\n",
            " 22896. 23856. 24336. 24816. 25776.]\n"
          ],
          "name": "stdout"
        }
      ]
    },
    {
      "cell_type": "code",
      "metadata": {
        "id": "4p3T582iuHM4"
      },
      "source": [
        "#add the final result to the dataframe\r\n",
        "df[\"Annaulized return\"]=temp"
      ],
      "execution_count": 77,
      "outputs": []
    },
    {
      "cell_type": "code",
      "metadata": {
        "colab": {
          "base_uri": "https://localhost:8080/"
        },
        "id": "zFFTlbm0nYi_",
        "outputId": "a64adce3-72f8-4f1d-c5a6-31cb5a23091e"
      },
      "source": [
        "#Return % for each month's bid winner\r\n",
        "temp1 = bid_return * (100 / 50000)\r\n",
        "print(\"Return % for each month's bid winner\",temp1)"
      ],
      "execution_count": 79,
      "outputs": [
        {
          "output_type": "stream",
          "text": [
            "Return % for each month's bid winner [ 87.4  91.4  97.4 103.4  87.4  91.4  93.4  95.4  87.4  91.4  97.4 103.4\n",
            "  87.4  91.4  93.4  93.4  89.4  91.4  97.4  97.4  95.4  99.4 101.4 103.4\n",
            " 107.4]\n"
          ],
          "name": "stdout"
        }
      ]
    },
    {
      "cell_type": "code",
      "metadata": {
        "id": "hezxqi6Rrc7q"
      },
      "source": [
        "#add the final result to the dataframe\r\n",
        "df['Return % each months bid winner']=temp1"
      ],
      "execution_count": 80,
      "outputs": []
    },
    {
      "cell_type": "code",
      "metadata": {
        "colab": {
          "base_uri": "https://localhost:8080/",
          "height": 891
        },
        "id": "AE96kWtSogrh",
        "outputId": "553cedef-dcd5-4ecb-9849-d1d71d90ea5e"
      },
      "source": [
        "df"
      ],
      "execution_count": 81,
      "outputs": [
        {
          "output_type": "execute_result",
          "data": {
            "text/html": [
              "<div>\n",
              "<style scoped>\n",
              "    .dataframe tbody tr th:only-of-type {\n",
              "        vertical-align: middle;\n",
              "    }\n",
              "\n",
              "    .dataframe tbody tr th {\n",
              "        vertical-align: top;\n",
              "    }\n",
              "\n",
              "    .dataframe thead th {\n",
              "        text-align: right;\n",
              "    }\n",
              "</style>\n",
              "<table border=\"1\" class=\"dataframe\">\n",
              "  <thead>\n",
              "    <tr style=\"text-align: right;\">\n",
              "      <th></th>\n",
              "      <th>Month</th>\n",
              "      <th>Contribution</th>\n",
              "      <th>Amount won by the bidder</th>\n",
              "      <th>Chit fund organizer commission</th>\n",
              "      <th>Net amount recd by Bid winner</th>\n",
              "      <th>Amount returned to everyone in the group</th>\n",
              "      <th>total return</th>\n",
              "      <th>Annaulized return</th>\n",
              "      <th>Return % each months bid winner</th>\n",
              "    </tr>\n",
              "  </thead>\n",
              "  <tbody>\n",
              "    <tr>\n",
              "      <th>0</th>\n",
              "      <td>1</td>\n",
              "      <td>2000</td>\n",
              "      <td>40000</td>\n",
              "      <td>2500</td>\n",
              "      <td>37500</td>\n",
              "      <td>400</td>\n",
              "      <td>43700</td>\n",
              "      <td>20976.0</td>\n",
              "      <td>87.4</td>\n",
              "    </tr>\n",
              "    <tr>\n",
              "      <th>1</th>\n",
              "      <td>2</td>\n",
              "      <td>2000</td>\n",
              "      <td>42000</td>\n",
              "      <td>2500</td>\n",
              "      <td>39500</td>\n",
              "      <td>320</td>\n",
              "      <td>45700</td>\n",
              "      <td>21936.0</td>\n",
              "      <td>91.4</td>\n",
              "    </tr>\n",
              "    <tr>\n",
              "      <th>2</th>\n",
              "      <td>3</td>\n",
              "      <td>2000</td>\n",
              "      <td>45000</td>\n",
              "      <td>2500</td>\n",
              "      <td>42500</td>\n",
              "      <td>200</td>\n",
              "      <td>48700</td>\n",
              "      <td>23376.0</td>\n",
              "      <td>97.4</td>\n",
              "    </tr>\n",
              "    <tr>\n",
              "      <th>3</th>\n",
              "      <td>4</td>\n",
              "      <td>2000</td>\n",
              "      <td>48000</td>\n",
              "      <td>2500</td>\n",
              "      <td>45500</td>\n",
              "      <td>80</td>\n",
              "      <td>51700</td>\n",
              "      <td>24816.0</td>\n",
              "      <td>103.4</td>\n",
              "    </tr>\n",
              "    <tr>\n",
              "      <th>4</th>\n",
              "      <td>5</td>\n",
              "      <td>2000</td>\n",
              "      <td>40000</td>\n",
              "      <td>2500</td>\n",
              "      <td>37500</td>\n",
              "      <td>400</td>\n",
              "      <td>43700</td>\n",
              "      <td>20976.0</td>\n",
              "      <td>87.4</td>\n",
              "    </tr>\n",
              "    <tr>\n",
              "      <th>5</th>\n",
              "      <td>6</td>\n",
              "      <td>2000</td>\n",
              "      <td>42000</td>\n",
              "      <td>2500</td>\n",
              "      <td>39500</td>\n",
              "      <td>320</td>\n",
              "      <td>45700</td>\n",
              "      <td>21936.0</td>\n",
              "      <td>91.4</td>\n",
              "    </tr>\n",
              "    <tr>\n",
              "      <th>6</th>\n",
              "      <td>7</td>\n",
              "      <td>2000</td>\n",
              "      <td>43000</td>\n",
              "      <td>2500</td>\n",
              "      <td>40500</td>\n",
              "      <td>280</td>\n",
              "      <td>46700</td>\n",
              "      <td>22416.0</td>\n",
              "      <td>93.4</td>\n",
              "    </tr>\n",
              "    <tr>\n",
              "      <th>7</th>\n",
              "      <td>8</td>\n",
              "      <td>2000</td>\n",
              "      <td>44000</td>\n",
              "      <td>2500</td>\n",
              "      <td>41500</td>\n",
              "      <td>240</td>\n",
              "      <td>47700</td>\n",
              "      <td>22896.0</td>\n",
              "      <td>95.4</td>\n",
              "    </tr>\n",
              "    <tr>\n",
              "      <th>8</th>\n",
              "      <td>9</td>\n",
              "      <td>2000</td>\n",
              "      <td>40000</td>\n",
              "      <td>2500</td>\n",
              "      <td>37500</td>\n",
              "      <td>400</td>\n",
              "      <td>43700</td>\n",
              "      <td>20976.0</td>\n",
              "      <td>87.4</td>\n",
              "    </tr>\n",
              "    <tr>\n",
              "      <th>9</th>\n",
              "      <td>10</td>\n",
              "      <td>2000</td>\n",
              "      <td>42000</td>\n",
              "      <td>2500</td>\n",
              "      <td>39500</td>\n",
              "      <td>320</td>\n",
              "      <td>45700</td>\n",
              "      <td>21936.0</td>\n",
              "      <td>91.4</td>\n",
              "    </tr>\n",
              "    <tr>\n",
              "      <th>10</th>\n",
              "      <td>11</td>\n",
              "      <td>2000</td>\n",
              "      <td>45000</td>\n",
              "      <td>2500</td>\n",
              "      <td>42500</td>\n",
              "      <td>200</td>\n",
              "      <td>48700</td>\n",
              "      <td>23376.0</td>\n",
              "      <td>97.4</td>\n",
              "    </tr>\n",
              "    <tr>\n",
              "      <th>11</th>\n",
              "      <td>12</td>\n",
              "      <td>2000</td>\n",
              "      <td>48000</td>\n",
              "      <td>2500</td>\n",
              "      <td>45500</td>\n",
              "      <td>80</td>\n",
              "      <td>51700</td>\n",
              "      <td>24816.0</td>\n",
              "      <td>103.4</td>\n",
              "    </tr>\n",
              "    <tr>\n",
              "      <th>12</th>\n",
              "      <td>13</td>\n",
              "      <td>2000</td>\n",
              "      <td>40000</td>\n",
              "      <td>2500</td>\n",
              "      <td>37500</td>\n",
              "      <td>400</td>\n",
              "      <td>43700</td>\n",
              "      <td>20976.0</td>\n",
              "      <td>87.4</td>\n",
              "    </tr>\n",
              "    <tr>\n",
              "      <th>13</th>\n",
              "      <td>14</td>\n",
              "      <td>2000</td>\n",
              "      <td>42000</td>\n",
              "      <td>2500</td>\n",
              "      <td>39500</td>\n",
              "      <td>320</td>\n",
              "      <td>45700</td>\n",
              "      <td>21936.0</td>\n",
              "      <td>91.4</td>\n",
              "    </tr>\n",
              "    <tr>\n",
              "      <th>14</th>\n",
              "      <td>15</td>\n",
              "      <td>2000</td>\n",
              "      <td>43000</td>\n",
              "      <td>2500</td>\n",
              "      <td>40500</td>\n",
              "      <td>280</td>\n",
              "      <td>46700</td>\n",
              "      <td>22416.0</td>\n",
              "      <td>93.4</td>\n",
              "    </tr>\n",
              "    <tr>\n",
              "      <th>15</th>\n",
              "      <td>16</td>\n",
              "      <td>2000</td>\n",
              "      <td>43000</td>\n",
              "      <td>2500</td>\n",
              "      <td>40500</td>\n",
              "      <td>280</td>\n",
              "      <td>46700</td>\n",
              "      <td>22416.0</td>\n",
              "      <td>93.4</td>\n",
              "    </tr>\n",
              "    <tr>\n",
              "      <th>16</th>\n",
              "      <td>17</td>\n",
              "      <td>2000</td>\n",
              "      <td>41000</td>\n",
              "      <td>2500</td>\n",
              "      <td>38500</td>\n",
              "      <td>360</td>\n",
              "      <td>44700</td>\n",
              "      <td>21456.0</td>\n",
              "      <td>89.4</td>\n",
              "    </tr>\n",
              "    <tr>\n",
              "      <th>17</th>\n",
              "      <td>18</td>\n",
              "      <td>2000</td>\n",
              "      <td>42000</td>\n",
              "      <td>2500</td>\n",
              "      <td>39500</td>\n",
              "      <td>320</td>\n",
              "      <td>45700</td>\n",
              "      <td>21936.0</td>\n",
              "      <td>91.4</td>\n",
              "    </tr>\n",
              "    <tr>\n",
              "      <th>18</th>\n",
              "      <td>19</td>\n",
              "      <td>2000</td>\n",
              "      <td>45000</td>\n",
              "      <td>2500</td>\n",
              "      <td>42500</td>\n",
              "      <td>200</td>\n",
              "      <td>48700</td>\n",
              "      <td>23376.0</td>\n",
              "      <td>97.4</td>\n",
              "    </tr>\n",
              "    <tr>\n",
              "      <th>19</th>\n",
              "      <td>20</td>\n",
              "      <td>2000</td>\n",
              "      <td>45000</td>\n",
              "      <td>2500</td>\n",
              "      <td>42500</td>\n",
              "      <td>200</td>\n",
              "      <td>48700</td>\n",
              "      <td>23376.0</td>\n",
              "      <td>97.4</td>\n",
              "    </tr>\n",
              "    <tr>\n",
              "      <th>20</th>\n",
              "      <td>21</td>\n",
              "      <td>2000</td>\n",
              "      <td>44000</td>\n",
              "      <td>2500</td>\n",
              "      <td>41500</td>\n",
              "      <td>240</td>\n",
              "      <td>47700</td>\n",
              "      <td>22896.0</td>\n",
              "      <td>95.4</td>\n",
              "    </tr>\n",
              "    <tr>\n",
              "      <th>21</th>\n",
              "      <td>22</td>\n",
              "      <td>2000</td>\n",
              "      <td>46000</td>\n",
              "      <td>2500</td>\n",
              "      <td>43500</td>\n",
              "      <td>160</td>\n",
              "      <td>49700</td>\n",
              "      <td>23856.0</td>\n",
              "      <td>99.4</td>\n",
              "    </tr>\n",
              "    <tr>\n",
              "      <th>22</th>\n",
              "      <td>23</td>\n",
              "      <td>2000</td>\n",
              "      <td>47000</td>\n",
              "      <td>2500</td>\n",
              "      <td>44500</td>\n",
              "      <td>120</td>\n",
              "      <td>50700</td>\n",
              "      <td>24336.0</td>\n",
              "      <td>101.4</td>\n",
              "    </tr>\n",
              "    <tr>\n",
              "      <th>23</th>\n",
              "      <td>24</td>\n",
              "      <td>2000</td>\n",
              "      <td>48000</td>\n",
              "      <td>2500</td>\n",
              "      <td>45500</td>\n",
              "      <td>80</td>\n",
              "      <td>51700</td>\n",
              "      <td>24816.0</td>\n",
              "      <td>103.4</td>\n",
              "    </tr>\n",
              "    <tr>\n",
              "      <th>24</th>\n",
              "      <td>25</td>\n",
              "      <td>2000</td>\n",
              "      <td>50000</td>\n",
              "      <td>2500</td>\n",
              "      <td>47500</td>\n",
              "      <td>0</td>\n",
              "      <td>53700</td>\n",
              "      <td>25776.0</td>\n",
              "      <td>107.4</td>\n",
              "    </tr>\n",
              "  </tbody>\n",
              "</table>\n",
              "</div>"
            ],
            "text/plain": [
              "    Month  Contribution  ...  Annaulized return  Return % each months bid winner\n",
              "0       1          2000  ...            20976.0                             87.4\n",
              "1       2          2000  ...            21936.0                             91.4\n",
              "2       3          2000  ...            23376.0                             97.4\n",
              "3       4          2000  ...            24816.0                            103.4\n",
              "4       5          2000  ...            20976.0                             87.4\n",
              "5       6          2000  ...            21936.0                             91.4\n",
              "6       7          2000  ...            22416.0                             93.4\n",
              "7       8          2000  ...            22896.0                             95.4\n",
              "8       9          2000  ...            20976.0                             87.4\n",
              "9      10          2000  ...            21936.0                             91.4\n",
              "10     11          2000  ...            23376.0                             97.4\n",
              "11     12          2000  ...            24816.0                            103.4\n",
              "12     13          2000  ...            20976.0                             87.4\n",
              "13     14          2000  ...            21936.0                             91.4\n",
              "14     15          2000  ...            22416.0                             93.4\n",
              "15     16          2000  ...            22416.0                             93.4\n",
              "16     17          2000  ...            21456.0                             89.4\n",
              "17     18          2000  ...            21936.0                             91.4\n",
              "18     19          2000  ...            23376.0                             97.4\n",
              "19     20          2000  ...            23376.0                             97.4\n",
              "20     21          2000  ...            22896.0                             95.4\n",
              "21     22          2000  ...            23856.0                             99.4\n",
              "22     23          2000  ...            24336.0                            101.4\n",
              "23     24          2000  ...            24816.0                            103.4\n",
              "24     25          2000  ...            25776.0                            107.4\n",
              "\n",
              "[25 rows x 9 columns]"
            ]
          },
          "metadata": {
            "tags": []
          },
          "execution_count": 81
        }
      ]
    },
    {
      "cell_type": "code",
      "metadata": {
        "id": "gXMHnskzv4uw"
      },
      "source": [
        "#results"
      ],
      "execution_count": null,
      "outputs": []
    },
    {
      "cell_type": "code",
      "metadata": {
        "colab": {
          "base_uri": "https://localhost:8080/"
        },
        "id": "HfM_l6KFrJ84",
        "outputId": "0e30cabe-dc6e-4340-81ed-299d71dcbf2e"
      },
      "source": [
        " print('Annualized  Return of the person who bids in the last month: {}'.format(list(df['Annaulized return'])[-1]))"
      ],
      "execution_count": 82,
      "outputs": [
        {
          "output_type": "stream",
          "text": [
            "Annualized  Return of the person who bids in the last month: 25776.0\n"
          ],
          "name": "stdout"
        }
      ]
    },
    {
      "cell_type": "code",
      "metadata": {
        "colab": {
          "base_uri": "https://localhost:8080/"
        },
        "id": "GHa4F_mlrJ_v",
        "outputId": "dd6cd61a-fcb5-4136-be86-a8225c2a0fba"
      },
      "source": [
        "print('Annualized Return of the person who bids in the first month is: {}'.format(list(df['Annaulized return'])[0]))"
      ],
      "execution_count": 83,
      "outputs": [
        {
          "output_type": "stream",
          "text": [
            "Annualized Return of the person who bids in the first month is: 20976.0\n"
          ],
          "name": "stdout"
        }
      ]
    },
    {
      "cell_type": "code",
      "metadata": {
        "colab": {
          "base_uri": "https://localhost:8080/"
        },
        "id": "nHd75CKetXew",
        "outputId": "11cff79a-faaa-49cc-d6f1-70bcaf59d195"
      },
      "source": [
        "print(\"Return % for each month's bid winner\",df['Return % each months bid winner'])"
      ],
      "execution_count": 87,
      "outputs": [
        {
          "output_type": "stream",
          "text": [
            "Return % for each month's bid winner 0      87.4\n",
            "1      91.4\n",
            "2      97.4\n",
            "3     103.4\n",
            "4      87.4\n",
            "5      91.4\n",
            "6      93.4\n",
            "7      95.4\n",
            "8      87.4\n",
            "9      91.4\n",
            "10     97.4\n",
            "11    103.4\n",
            "12     87.4\n",
            "13     91.4\n",
            "14     93.4\n",
            "15     93.4\n",
            "16     89.4\n",
            "17     91.4\n",
            "18     97.4\n",
            "19     97.4\n",
            "20     95.4\n",
            "21     99.4\n",
            "22    101.4\n",
            "23    103.4\n",
            "24    107.4\n",
            "Name: Return % each months bid winner, dtype: float64\n"
          ],
          "name": "stdout"
        }
      ]
    },
    {
      "cell_type": "code",
      "metadata": {
        "id": "qnQ8dTu-tXiF"
      },
      "source": [
        ""
      ],
      "execution_count": null,
      "outputs": []
    }
  ]
}